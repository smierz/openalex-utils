{
 "cells": [
  {
   "cell_type": "markdown",
   "id": "198d1293-bbbd-4e42-9fce-9000bb72ea39",
   "metadata": {},
   "source": [
    "# Translate Concept using Wikidata\n",
    "Code snippet showing how to pull all translations for a concept's [display_name](https://docs.openalex.org/about-the-data/concept#display_name) from Wikidata."
   ]
  },
  {
   "cell_type": "code",
   "execution_count": 1,
   "id": "d5e7c7c0-ca9c-464a-b375-ac9d8fea2806",
   "metadata": {},
   "outputs": [],
   "source": [
    "# Prerequisites:\n",
    "import requests # dependency to make HTTP calls"
   ]
  },
  {
   "cell_type": "markdown",
   "id": "e3703cbe-0a40-4ba7-96f1-a361fde2a31a",
   "metadata": {},
   "source": [
    "Input for this workbook is an OpenAlex id for a concept."
   ]
  },
  {
   "cell_type": "code",
   "execution_count": 2,
   "id": "90a5dc27-98d3-4c65-80ec-2e920d34030f",
   "metadata": {},
   "outputs": [],
   "source": [
    "concept_id = 'C41008148'"
   ]
  },
  {
   "cell_type": "markdown",
   "id": "1719db09-0404-4bf1-9b23-d5b1f48814be",
   "metadata": {},
   "source": [
    "Let's get its metadata from the OpenAlex API:"
   ]
  },
  {
   "cell_type": "code",
   "execution_count": 3,
   "id": "a4b72b81-2a00-4aa8-8fff-39270717f0c9",
   "metadata": {},
   "outputs": [],
   "source": [
    "# query OpenAlex with a concept id\n",
    "def get_concept_from_openalex(concept_id):\n",
    "    openalex_single_concept_url = f'https://api.openalex.org/concepts/{concept_id}'\n",
    "    response = requests.get(url=openalex_single_concept_url)\n",
    "    return response.json()\n",
    "\n",
    "concept_metadata = get_concept_from_openalex(concept_id)"
   ]
  },
  {
   "cell_type": "markdown",
   "id": "8f255d75-fef1-4c13-8e59-3726790ca796",
   "metadata": {},
   "source": [
    "In the `display_name` attribute we will find the english label for the concept."
   ]
  },
  {
   "cell_type": "code",
   "execution_count": 4,
   "id": "91abb92a-6c0a-4dcf-bf4e-6aa484d2f747",
   "metadata": {},
   "outputs": [
    {
     "name": "stdout",
     "output_type": "stream",
     "text": [
      "Computer science\n"
     ]
    }
   ],
   "source": [
    "print(concept_metadata['display_name'])"
   ]
  },
  {
   "cell_type": "markdown",
   "id": "50780ffc-592e-4596-a3d7-d719f5445dad",
   "metadata": {},
   "source": [
    "Every OpenAlex concept [corresponds to a Wikidata concept](https://docs.openalex.org/about-the-data/concept) that you can find in the concept's [`wikidata` id](https://docs.openalex.org/about-the-data/concept#wikidata)."
   ]
  },
  {
   "cell_type": "code",
   "execution_count": 5,
   "id": "0521d105-9557-4db9-8561-410a15a2c187",
   "metadata": {},
   "outputs": [
    {
     "name": "stdout",
     "output_type": "stream",
     "text": [
      "Q21198\n"
     ]
    }
   ],
   "source": [
    "# extract Wikidata id from URL\n",
    "concept_wikidata_url = concept_metadata['wikidata']\n",
    "concept_wikidata_id = concept_wikidata_url.replace(\"https://www.wikidata.org/wiki/\", \"\")\n",
    "print(concept_wikidata_id)"
   ]
  },
  {
   "cell_type": "markdown",
   "id": "8b836038-76e6-4737-af8d-fd3b4d2a3abd",
   "metadata": {},
   "source": [
    "Following we will use the concept's `wikidata` id to query Wikidata for the concept and extract all the available labels in different languages:"
   ]
  },
  {
   "cell_type": "code",
   "execution_count": 6,
   "id": "4e2e17d2-5b50-4056-b585-193610233e79",
   "metadata": {},
   "outputs": [
    {
     "name": "stdout",
     "output_type": "stream",
     "text": [
      "pl informatyka\n",
      "eu Informatika\n",
      "bs Računarstvo\n",
      "uz Informatika\n",
      "oc informatica\n",
      "hu számítástudomány\n",
      "sq shkencë kompjuterike\n",
      "ia Informatica\n",
      "tk Informatika\n",
      "nl informatica\n",
      "eo komputiko\n",
      "sr информатика\n",
      "uk інформатика\n",
      "be-tarask інфарматыка\n",
      "rue Інформатіка\n",
      "az informatika\n",
      "fur Informatiche\n",
      "csb Infòrmatika\n",
      "an Informatica\n",
      "gsw Informatik\n",
      "pms Anformàtica\n",
      "be інфарматыка\n",
      "frr informaatik\n",
      "lad Informatika\n",
      "ie Informatica\n",
      "yo Ìfitónilétí\n",
      "it informatica\n",
      "ht Enfòmatik\n",
      "tg илмҳои роёна\n",
      "sk veda o počítačoch\n",
      "ext Enhormática\n",
      "ca ciències de la computació\n",
      "la informatica\n",
      "cs počítačová věda\n",
      "sgs Infuormatėka\n",
      "bg Информатика\n",
      "lb Informatik\n",
      "af Informatika\n",
      "et Informaatika\n",
      "br stlenneg\n",
      "ru информатика\n",
      "ast Informática\n",
      "tr bilgisayar bilimi\n",
      "mk информатика\n",
      "nn datateknikk\n",
      "io Informatiko\n",
      "zea Informaotica\n",
      "tl Impormatika\n",
      "kk Информатика\n",
      "wa Infôrmatike\n",
      "fr informatique\n",
      "eml Informàtica\n",
      "li Informatica\n",
      "gl ciencias da computación\n",
      "de Informatik\n",
      "sh informatika\n",
      "scn nfurmàtica\n",
      "nov informatike\n",
      "tt компьютер белеме\n",
      "hy ինֆորմատիկա\n",
      "fy ynformatika\n",
      "ro informatică\n",
      "nds-nl Informatika\n",
      "mg Informatika\n",
      "sl informatika\n",
      "mhr Информатике\n",
      "pcd Informatike\n",
      "vro Informaatiga\n",
      "lt Informatika\n",
      "en-ca Informatics\n",
      "en-gb computer science\n",
      "nb datateknikk\n",
      "es ciencias de la computación\n",
      "hr Informatika\n",
      "id ilmu komputer\n",
      "ka ინფორმატიკა\n",
      "lv datorzinātne\n",
      "pt ciência de computadores\n",
      "pt-br ciência da computação\n",
      "sv datavetenskap\n",
      "vec informàtega\n",
      "el Επιστήμη υπολογιστών\n",
      "ja 計算機科学\n",
      "da datalogi\n",
      "fa انفورماتیک (رشته دانشگاهی)\n",
      "ar علم الحاسوب\n",
      "yue 電腦科學\n",
      "bar Informatik\n",
      "ko 컴퓨터 과학\n",
      "gv Sheanse co-earrooagh\n",
      "zh 計算機科學\n",
      "wuu 计算机科学\n",
      "vi khoa học máy tính\n",
      "is Tölvunarfræði\n",
      "iu ᑐᓴᐅᒪᖃᑦᑕᐅᑎᔾᔪᑎᓂᒃ ᐊᐅᓚᑦᑎᔩᑦ/tusaumaqattautijjutinik aulattijiit\n",
      "as কম্পিউটাৰ বিজ্ঞান\n",
      "ga ríomheolaíocht\n",
      "kl Qarasaasialerinermik ilisimatusarneq\n",
      "ps سولګرپوهنه\n",
      "ne कम्प्युटर विज्ञान\n",
      "th วิทยาการคอมพิวเตอร์\n",
      "new कम्प्युटर विज्ञान\n",
      "pi सुशांख्य यन्त्र (कम्प्युटर) विज्ञान\n",
      "war Siyensya han komputasyon\n",
      "mwl Ciéncia de la cumputaçon\n",
      "kab Tasenselkimt\n",
      "ms sains komputer\n",
      "wo Xam-xamu nosukaay\n",
      "am የኮምፒውተር፡ጥናት\n",
      "bn কম্পিউটার বিজ্ঞান\n",
      "hi संगणक विज्ञान\n",
      "fi tietojenkäsittelytiede\n",
      "fo Teldufrøði\n",
      "ml കമ്പ്യൂട്ടർ ശാസ്ത്രം\n",
      "mn Компьютерийн шинжлэх ухаан\n",
      "kn ಗಣಕ ವಿಜ್ಞಾನ\n",
      "ur کمپیوٹر سائنس\n",
      "si පරිගණක විද්‍යාව\n",
      "ltg Datorzineiba\n",
      "ku Informatîk\n",
      "jbo samske\n",
      "ug بیلگیسايار مۈھەندیسلیغی\n",
      "ta கணினியியல்\n",
      "zh-hans 计算机科学\n",
      "he מדעי המחשב\n",
      "de-ch Informatik\n",
      "zh-cn 计算机科学\n",
      "sr-ec информатика\n",
      "sr-el informatika\n",
      "co informatica\n",
      "sco computer science\n",
      "nan Tiān-náu kho-ha̍k\n",
      "rup informaticã\n",
      "zh-hk 電腦科學\n",
      "or କମ୍ପ୍ୟୁଟର ବିଜ୍ଞାନ\n",
      "ti ኮምፒዩተር ሳይንስ\n",
      "te కంప్యూటరు శాస్త్రం\n",
      "cy cyfrifiadureg\n",
      "sc Informàtica\n",
      "nap Nfurmateca\n",
      "sa सङ्गणक शास्त्रम्\n",
      "stq Informoatik\n",
      "ckb زانستی کۆمپیوتەر\n",
      "hak Thien-nó Khô-ho̍k\n",
      "zh-hant 電腦科學\n",
      "kaa Informatika\n",
      "diq İnformatik\n",
      "bho कंप्यूटर बिज्ञान\n",
      "arz علم الكمبيوتر\n",
      "sd ڪمپيوٽر سائنس\n",
      "lmo Informadega\n",
      "tg-cyrl информатика\n",
      "gd saidheans choimpiutairean\n",
      "tt-cyrl компьютер белеме\n",
      "lij Informatica\n",
      "km វិទ្យាសាស្ត្រ​កុំព្យូទ័រ\n",
      "su Élmu komputer\n",
      "ce Категори:Информатика\n",
      "ba Информатика\n",
      "mr संगणक विज्ञान\n",
      "tpi Save long komputa\n",
      "tet Definisaun Sistema Informasaun Teknologia\n",
      "my ကွန်ပျူတာသိပ္ပံ\n",
      "gu કમ્પ્યુટર વિજ્ઞાન\n",
      "gcr Lenfòrmatik\n",
      "nqo ߕߟߋ߬ߓߊ߰ ߞߊߙߊ߲ ߥߟߊ߫ ߕߟߋ߬ߓߊ߰ ߟߐ߲\n",
      "sw Sayansi ya tarakilishi\n",
      "min Ilmu komputer\n",
      "zh-my 电脑科学\n",
      "zh-sg 电脑科学\n",
      "zh-mo 電腦科學\n",
      "zh-tw 電腦科學\n",
      "om Infoormaatiksii\n",
      "en computer science\n",
      "shn ပၢႆးသၢႆႊၶွမ်ႇပိဝ်ႇတႃႇ\n",
      "hsb informatika\n",
      "shi Tasenselkimt\n",
      "bcl Siyensyang pangkompyuter\n",
      "os информатикæ\n",
      "mdf Информатикась\n",
      "ms-arab ساءين‌س کومڤوتر\n",
      "azb بیلگی‌سایار بیلیمی\n",
      "sah Информатика\n",
      "xmf ინფორმატიკა\n",
      "nrm Informatique\n"
     ]
    }
   ],
   "source": [
    "# query Wikidata for a concept's labels\n",
    "def get_item_labels_from_wikidata(wikidata_id):\n",
    "    wikidata_api = \"https://www.wikidata.org/w/api.php\"\n",
    "    response = requests.get(url=wikidata_api,\n",
    "                          params={'action': 'wbgetentities', 'ids': wikidata_id, 'props':'labels', 'format':'json'},\n",
    "                          headers={'Accept': 'application/json'})\n",
    "    response.raise_for_status()\n",
    "    result=response.json()\n",
    "    return result['entities'][wikidata_id]['labels']\n",
    "\n",
    "# get labels and print them\n",
    "concept_labels = get_item_labels_from_wikidata(concept_wikidata_id)\n",
    "for lang in concept_labels.values():\n",
    "    print(lang['language'], lang['value'])"
   ]
  },
  {
   "cell_type": "markdown",
   "id": "b350960b-bedc-47b1-95a1-caecf01a1ed3",
   "metadata": {},
   "source": [
    "---\n",
    "And that is how you get all translations for a concept's `display_name` available on Wikidata."
   ]
  }
 ],
 "metadata": {
  "kernelspec": {
   "display_name": "Python 3 (ipykernel)",
   "language": "python",
   "name": "python3"
  },
  "language_info": {
   "codemirror_mode": {
    "name": "ipython",
    "version": 3
   },
   "file_extension": ".py",
   "mimetype": "text/x-python",
   "name": "python",
   "nbconvert_exporter": "python",
   "pygments_lexer": "ipython3",
   "version": "3.8.10"
  }
 },
 "nbformat": 4,
 "nbformat_minor": 5
}
