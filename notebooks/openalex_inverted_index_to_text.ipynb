{
  "nbformat": 4,
  "nbformat_minor": 0,
  "metadata": {
    "colab": {
      "name": "inverted_index_to_text.ipynb",
      "provenance": [],
      "authorship_tag": "ABX9TyMhjxnqmHvBbX/5aX9kezZq"
    },
    "kernelspec": {
      "name": "python3",
      "display_name": "Python 3"
    },
    "language_info": {
      "name": "python"
    }
  },
  "cells": [
    {
      "cell_type": "markdown",
      "source": [
        "### Inverted index to text\n",
        "Code Snippet for recreating the original text from an inverted index.\n",
        "As an example I used the [`abstract_inverted_index`](https://docs.openalex.org/about-the-data/work#abstract_inverted_index) attribute from the [OpenAlex](https://docs.openalex.org/) endpoint for `works`."
      ],
      "metadata": {
        "id": "hWf6ZR0l2kpV"
      }
    },
    {
      "cell_type": "code",
      "source": [
        "# Prerequisites:\n",
        "import requests # dependency to make HTTP calls"
      ],
      "metadata": {
        "id": "-JYLiysb2ocL"
      },
      "execution_count": null,
      "outputs": []
    },
    {
      "cell_type": "markdown",
      "source": [
        "Input for this workbook is an URL for OpenAlex referring to a single work entity."
      ],
      "metadata": {
        "id": "b2YOv4Bc9lHd"
      }
    },
    {
      "cell_type": "code",
      "source": [
        "openalex_single_work_url = 'https://api.openalex.org/works/W2980172586'"
      ],
      "metadata": {
        "id": "BeOqyQpZ2jgt"
      },
      "execution_count": null,
      "outputs": []
    },
    {
      "cell_type": "markdown",
      "source": [
        "Let's get the metadata from the OpenAlex API.. \n"
      ],
      "metadata": {
        "id": "030aSpTg2jyt"
      }
    },
    {
      "cell_type": "code",
      "execution_count": null,
      "metadata": {
        "id": "hc1fX1an1unN"
      },
      "outputs": [],
      "source": [
        "response = requests.get(url=openalex_single_work_url)\n",
        "response.raise_for_status()\n",
        "work_metadata = response.json()"
      ]
    },
    {
      "cell_type": "markdown",
      "source": [
        "and extract the `abstract_inverted_index` attribute. Inverting the inverted index will give us the abstract in its original text form!"
      ],
      "metadata": {
        "id": "-3t1e6ZZ3JOX"
      }
    },
    {
      "cell_type": "code",
      "source": [
        "abstract_inverted_index = work_metadata.get('abstract_inverted_index') or {}\n",
        "\n",
        "abstract_index = {}\n",
        "for k, vlist in abstract_inverted_index.items():\n",
        "  for v in vlist:\n",
        "    abstract_index[v] = k\n",
        "\n",
        "abstract = ' '.join(abstract_index[k] for k in sorted(abstract_index.keys()))\n",
        "print(abstract)\n"
      ],
      "metadata": {
        "id": "Tg6ZhIgY3JZI"
      },
      "execution_count": null,
      "outputs": []
    }
  ]
}